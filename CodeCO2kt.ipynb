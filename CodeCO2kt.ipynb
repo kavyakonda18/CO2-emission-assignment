{
 "cells": [
  {
   "cell_type": "markdown",
   "id": "56aed930",
   "metadata": {},
   "source": [
    "# Turnitin check for Assignment 3\n",
    "Kavya konda,21031591"
   ]
  },
  {
   "cell_type": "code",
   "execution_count": null,
   "id": "790a5104",
   "metadata": {},
   "outputs": [],
   "source": [
    "#import required libraries\n",
    "import numpy as np\n",
    "import matplotlib.pyplot as plt\n",
    "import pandas as pd\n",
    "from sklearn.cluster import KMeans"
   ]
  },
  {
   "cell_type": "code",
   "execution_count": null,
   "id": "e7865adf",
   "metadata": {},
   "outputs": [],
   "source": [
    "#load the data\n",
    "df= pd.read_csv('CO2 KT.csv')\n",
    "df.head()"
   ]
  },
  {
   "cell_type": "code",
   "execution_count": null,
   "id": "284159e2",
   "metadata": {},
   "outputs": [],
   "source": [
    "#check the shape of the data\n",
    "df.shape"
   ]
  },
  {
   "cell_type": "code",
   "execution_count": null,
   "id": "64f7e121",
   "metadata": {},
   "outputs": [],
   "source": [
    "#set 'Country Name' as index \n",
    "test = df.set_index('Country Name')\n",
    "test.head()"
   ]
  },
  {
   "cell_type": "code",
   "execution_count": null,
   "id": "8bcd1f1c",
   "metadata": {},
   "outputs": [],
   "source": [
    "plt.scatter(df['2000'],df['2010'])"
   ]
  },
  {
   "cell_type": "code",
   "execution_count": null,
   "id": "948cf404",
   "metadata": {},
   "outputs": [],
   "source": [
    "graph = []\n",
    "\n",
    "for i in range(1,15):\n",
    "    km = KMeans(n_clusters=i)\n",
    "    km.fit_predict(test)\n",
    "    graph.append(km.inertia_)\n",
    "    \n",
    "graph"
   ]
  },
  {
   "cell_type": "code",
   "execution_count": null,
   "id": "b4cc0849",
   "metadata": {},
   "outputs": [],
   "source": [
    "plt.plot(range(1,15),graph)"
   ]
  },
  {
   "cell_type": "code",
   "execution_count": null,
   "id": "8341b240",
   "metadata": {},
   "outputs": [],
   "source": [
    "X = test.iloc[:,:].values\n",
    "km = KMeans(n_clusters=4)\n",
    "y_means = km.fit_predict(X)\n",
    "y_means"
   ]
  },
  {
   "cell_type": "code",
   "execution_count": null,
   "id": "72b02b75",
   "metadata": {},
   "outputs": [],
   "source": [
    "X[y_means == 1,3]"
   ]
  },
  {
   "cell_type": "code",
   "execution_count": null,
   "id": "db92e584",
   "metadata": {},
   "outputs": [],
   "source": [
    "plt.scatter(X[y_means == 0,0],X[y_means == 0,1],color = 'blue')\n",
    "plt.scatter(X[y_means == 1,0],X[y_means == 1,1],color = 'red')\n",
    "plt.scatter(X[y_means == 2,0],X[y_means == 2,1],color = 'green')\n",
    "plt.scatter(X[y_means == 3,0],X[y_means == 3,1],color = 'yellow')"
   ]
  },
  {
   "cell_type": "code",
   "execution_count": null,
   "id": "a11a414e",
   "metadata": {},
   "outputs": [],
   "source": [
    "df = pd.read_csv(\"CO2 KT.csv\")\n",
    "gr = df[[\"2001\", \"2006\", \"2011\", \"2013\", \"2017\"]].describe()\n",
    "gr.plot()"
   ]
  },
  {
   "cell_type": "code",
   "execution_count": null,
   "id": "333c1e3a",
   "metadata": {},
   "outputs": [],
   "source": [
    "import matplotlib.pyplot as plt\n",
    "gr = df[[\"Country Name\",\"2001\", \"2006\", \"2011\", \"2013\", \"2017\"]].groupby(\"Country Name\").mean().head(10)\n",
    "gr.plot(kind='bar', figsize=(10,5))"
   ]
  },
  {
   "cell_type": "code",
   "execution_count": null,
   "id": "e041fcdd",
   "metadata": {},
   "outputs": [],
   "source": []
  }
 ],
 "metadata": {
  "kernelspec": {
   "display_name": "Python 3 (ipykernel)",
   "language": "python",
   "name": "python3"
  },
  "language_info": {
   "codemirror_mode": {
    "name": "ipython",
    "version": 3
   },
   "file_extension": ".py",
   "mimetype": "text/x-python",
   "name": "python",
   "nbconvert_exporter": "python",
   "pygments_lexer": "ipython3",
   "version": "3.9.7"
  }
 },
 "nbformat": 4,
 "nbformat_minor": 5
}
